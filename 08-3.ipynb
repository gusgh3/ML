{
 "cells": [
  {
   "cell_type": "code",
   "execution_count": 2,
   "id": "7ceff890-2139-471c-916d-ecf9c5f2d752",
   "metadata": {},
   "outputs": [],
   "source": [
    "from tensorflow import keras\n",
    "model = keras.models.load_model('best-cnn-model.keras')"
   ]
  },
  {
   "cell_type": "code",
   "execution_count": 3,
   "id": "73730fd2-a42c-4c70-8513-1c3b03002823",
   "metadata": {},
   "outputs": [
    {
     "data": {
      "text/plain": [
       "[<Conv2D name=conv2d_2, built=True>,\n",
       " <MaxPooling2D name=max_pooling2d_2, built=True>,\n",
       " <Conv2D name=conv2d_3, built=True>,\n",
       " <MaxPooling2D name=max_pooling2d_3, built=True>,\n",
       " <Flatten name=flatten_1, built=True>,\n",
       " <Dense name=dense_2, built=True>,\n",
       " <Dropout name=dropout_1, built=True>,\n",
       " <Dense name=dense_3, built=True>]"
      ]
     },
     "execution_count": 3,
     "metadata": {},
     "output_type": "execute_result"
    }
   ],
   "source": [
    "model.layers"
   ]
  },
  {
   "cell_type": "code",
   "execution_count": 4,
   "id": "c5c392e1-204e-4d41-8093-2b37ea1dbde0",
   "metadata": {},
   "outputs": [
    {
     "name": "stdout",
     "output_type": "stream",
     "text": [
      "(3, 3, 1, 32)\n"
     ]
    }
   ],
   "source": [
    "conv = model.layers[0]\n",
    "print(conv.weights[0].shape)"
   ]
  },
  {
   "cell_type": "code",
   "execution_count": 8,
   "id": "45d69d38-b6fb-4390-8fc9-0a4c8d6fa81f",
   "metadata": {},
   "outputs": [
    {
     "data": {
      "image/png": "[encoded data removed]",
      "text/plain": [
       "<Figure size 640x480 with 1 Axes>"
      ]
     },
     "metadata": {},
     "output_type": "display_data"
    }
   ],
   "source": [
    "import matplotlib.pyplot as plt\n",
    "plt.hist(conv.weights[0].numpy().reshape(-1, 1)) #reshape 2차원 픽셀을 1차원으로 늘어뜨리는 것\n",
    "plt.show()"
   ]
  },
  {
   "cell_type": "code",
   "execution_count": 10,
   "id": "7a0b40cb-de88-42b7-86fb-52fe29ee5e5b",
   "metadata": {},
   "outputs": [
    {
     "data": {
      "image/png": "[encoded data removed]",
      "text/plain": [
       "<Figure size 1500x200 with 32 Axes>"
      ]
     },
     "metadata": {},
     "output_type": "display_data"
    }
   ],
   "source": [
    "fig, axs = plt.subplots(2, 16, figsize=(15, 2))\n",
    "\n",
    "\n",
    "for i in range(2):\n",
    "    for j in range(16):\n",
    "        axs[i , j].imshow(conv.weights[0].numpy()[:, :, 0, i*16 + j], vmin=0.5, vmax=0.5,  )\n",
    "\n",
    "    axs[i,j].axis('off')\n",
    "\n",
    "plt.show()"
   ]
  },
  {
   "cell_type": "code",
   "execution_count": 13,
   "id": "8b63f0de-3566-4f34-8628-3386af8b3894",
   "metadata": {},
   "outputs": [
    {
     "ename": "ValueError",
     "evalue": "not enough values to unpack (expected 4, got 2)",
     "output_type": "error",
     "traceback": [
      "\u001b[1;31m---------------------------------------------------------------------------\u001b[0m",
      "\u001b[1;31mValueError\u001b[0m                                Traceback (most recent call last)",
      "Cell \u001b[1;32mIn[13], line 1\u001b[0m\n\u001b[1;32m----> 1\u001b[0m (train_input, train_target, test_input, test_target),  (test_input, test_target) \u001b[38;5;241m=\u001b[39m keras\u001b[38;5;241m.\u001b[39mdatasets\u001b[38;5;241m.\u001b[39mfashion_mnist\u001b[38;5;241m.\u001b[39mload_data()\n",
      "\u001b[1;31mValueError\u001b[0m: not enough values to unpack (expected 4, got 2)"
     ]
    }
   ],
   "source": [
    "(train_input, train_target, test_input, test_target),  (test_input, test_target) = keras.datasets.fashion_mnist.load_data()"
   ]
  },
  {
   "cell_type": "code",
   "execution_count": null,
   "id": "42db63f8-95ab-492f-9600-6f4208f63c2c",
   "metadata": {},
   "outputs": [],
   "source": [
    "plt.imshow()"
   ]
  },
  {
   "cell_type": "code",
   "execution_count": 14,
   "id": "d44a88fa-edc4-4717-b99a-60c85b8fadf2",
   "metadata": {},
   "outputs": [
    {
     "ename": "SyntaxError",
     "evalue": "invalid syntax (3451616234.py, line 1)",
     "output_type": "error",
     "traceback": [
      "\u001b[1;36m  Cell \u001b[1;32mIn[14], line 1\u001b[1;36m\u001b[0m\n\u001b[1;33m    train_input[0:1]reshape(-1, 28, 28, 1) / 255.0\u001b[0m\n\u001b[1;37m                    ^\u001b[0m\n\u001b[1;31mSyntaxError\u001b[0m\u001b[1;31m:\u001b[0m invalid syntax\n"
     ]
    }
   ],
   "source": [
    "train_input[0:1]reshape(-1, 28, 28, 1) / 255.0"
   ]
  },
  {
   "cell_type": "code",
   "execution_count": 16,
   "id": "678052da-2676-4d4c-a820-d5d8637bd78e",
   "metadata": {},
   "outputs": [],
   "source": [
    "conv_acti = keras.Model(model.layers[0].input, model.layers[0].output)"
   ]
  },
  {
   "cell_type": "code",
   "execution_count": 17,
   "id": "de5eda1a-312a-4fa6-8340-f4bbdbea5f16",
   "metadata": {},
   "outputs": [
    {
     "ename": "NameError",
     "evalue": "name 'inputs' is not defined",
     "output_type": "error",
     "traceback": [
      "\u001b[1;31m---------------------------------------------------------------------------\u001b[0m",
      "\u001b[1;31mNameError\u001b[0m                                 Traceback (most recent call last)",
      "Cell \u001b[1;32mIn[17], line 1\u001b[0m\n\u001b[1;32m----> 1\u001b[0m feature_maps \u001b[38;5;241m=\u001b[39m conv_acti\u001b[38;5;241m.\u001b[39mpredict(\u001b[43minputs\u001b[49m)\n",
      "\u001b[1;31mNameError\u001b[0m: name 'inputs' is not defined"
     ]
    }
   ],
   "source": [
    "feature_maps = conv_acti.predict(inputs)"
   ]
  },
  {
   "cell_type": "code",
   "execution_count": 18,
   "id": "0f843a60-d521-4136-9d56-1bfcdb4f9340",
   "metadata": {},
   "outputs": [
    {
     "ename": "TypeError",
     "evalue": "subplot() takes 1 or 3 positional arguments but 2 were given",
     "output_type": "error",
     "traceback": [
      "\u001b[1;31m---------------------------------------------------------------------------\u001b[0m",
      "\u001b[1;31mTypeError\u001b[0m                                 Traceback (most recent call last)",
      "Cell \u001b[1;32mIn[18], line 1\u001b[0m\n\u001b[1;32m----> 1\u001b[0m fig, axs \u001b[38;5;241m=\u001b[39m \u001b[43mplt\u001b[49m\u001b[38;5;241;43m.\u001b[39;49m\u001b[43msubplot\u001b[49m\u001b[43m(\u001b[49m\u001b[38;5;241;43m4\u001b[39;49m\u001b[43m,\u001b[49m\u001b[43m \u001b[49m\u001b[38;5;241;43m8\u001b[39;49m\u001b[43m,\u001b[49m\u001b[43m \u001b[49m\u001b[43mfigsize\u001b[49m\u001b[38;5;241;43m=\u001b[39;49m\u001b[43m(\u001b[49m\u001b[38;5;241;43m15\u001b[39;49m\u001b[43m,\u001b[49m\u001b[43m \u001b[49m\u001b[38;5;241;43m8\u001b[39;49m\u001b[43m)\u001b[49m\u001b[43m)\u001b[49m\n\u001b[0;32m      2\u001b[0m \u001b[38;5;28;01mfor\u001b[39;00m i \u001b[38;5;129;01min\u001b[39;00m \u001b[38;5;28mrange\u001b[39m(\u001b[38;5;241m4\u001b[39m):\n\u001b[0;32m      3\u001b[0m     \u001b[38;5;28;01mfor\u001b[39;00m j \u001b[38;5;129;01min\u001b[39;00m \u001b[38;5;28mrange\u001b[39m(\u001b[38;5;241m8\u001b[39m):\n",
      "File \u001b[1;32m~\\AppData\\Local\\Programs\\Python\\Python312\\Lib\\site-packages\\matplotlib\\pyplot.py:1534\u001b[0m, in \u001b[0;36msubplot\u001b[1;34m(*args, **kwargs)\u001b[0m\n\u001b[0;32m   1531\u001b[0m fig \u001b[38;5;241m=\u001b[39m gcf()\n\u001b[0;32m   1533\u001b[0m \u001b[38;5;66;03m# First, search for an existing subplot with a matching spec.\u001b[39;00m\n\u001b[1;32m-> 1534\u001b[0m key \u001b[38;5;241m=\u001b[39m \u001b[43mSubplotSpec\u001b[49m\u001b[38;5;241;43m.\u001b[39;49m\u001b[43m_from_subplot_args\u001b[49m\u001b[43m(\u001b[49m\u001b[43mfig\u001b[49m\u001b[43m,\u001b[49m\u001b[43m \u001b[49m\u001b[43margs\u001b[49m\u001b[43m)\u001b[49m\n\u001b[0;32m   1536\u001b[0m \u001b[38;5;28;01mfor\u001b[39;00m ax \u001b[38;5;129;01min\u001b[39;00m fig\u001b[38;5;241m.\u001b[39maxes:\n\u001b[0;32m   1537\u001b[0m     \u001b[38;5;66;03m# If we found an Axes at the position, we can reuse it if the user passed no\u001b[39;00m\n\u001b[0;32m   1538\u001b[0m     \u001b[38;5;66;03m# kwargs or if the Axes class and kwargs are identical.\u001b[39;00m\n\u001b[0;32m   1539\u001b[0m     \u001b[38;5;28;01mif\u001b[39;00m (ax\u001b[38;5;241m.\u001b[39mget_subplotspec() \u001b[38;5;241m==\u001b[39m key\n\u001b[0;32m   1540\u001b[0m         \u001b[38;5;129;01mand\u001b[39;00m (kwargs \u001b[38;5;241m==\u001b[39m {}\n\u001b[0;32m   1541\u001b[0m              \u001b[38;5;129;01mor\u001b[39;00m (ax\u001b[38;5;241m.\u001b[39m_projection_init\n\u001b[0;32m   1542\u001b[0m                  \u001b[38;5;241m==\u001b[39m fig\u001b[38;5;241m.\u001b[39m_process_projection_requirements(\u001b[38;5;241m*\u001b[39m\u001b[38;5;241m*\u001b[39mkwargs)))):\n",
      "File \u001b[1;32m~\\AppData\\Local\\Programs\\Python\\Python312\\Lib\\site-packages\\matplotlib\\gridspec.py:576\u001b[0m, in \u001b[0;36mSubplotSpec._from_subplot_args\u001b[1;34m(figure, args)\u001b[0m\n\u001b[0;32m    574\u001b[0m     rows, cols, num \u001b[38;5;241m=\u001b[39m args\n\u001b[0;32m    575\u001b[0m \u001b[38;5;28;01melse\u001b[39;00m:\n\u001b[1;32m--> 576\u001b[0m     \u001b[38;5;28;01mraise\u001b[39;00m _api\u001b[38;5;241m.\u001b[39mnargs_error(\u001b[38;5;124m\"\u001b[39m\u001b[38;5;124msubplot\u001b[39m\u001b[38;5;124m\"\u001b[39m, takes\u001b[38;5;241m=\u001b[39m\u001b[38;5;124m\"\u001b[39m\u001b[38;5;124m1 or 3\u001b[39m\u001b[38;5;124m\"\u001b[39m, given\u001b[38;5;241m=\u001b[39m\u001b[38;5;28mlen\u001b[39m(args))\n\u001b[0;32m    578\u001b[0m gs \u001b[38;5;241m=\u001b[39m GridSpec\u001b[38;5;241m.\u001b[39m_check_gridspec_exists(figure, rows, cols)\n\u001b[0;32m    579\u001b[0m \u001b[38;5;28;01mif\u001b[39;00m gs \u001b[38;5;129;01mis\u001b[39;00m \u001b[38;5;28;01mNone\u001b[39;00m:\n",
      "\u001b[1;31mTypeError\u001b[0m: subplot() takes 1 or 3 positional arguments but 2 were given"
     ]
    },
    {
     "data": {
      "text/plain": [
       "<Figure size 640x480 with 0 Axes>"
      ]
     },
     "metadata": {},
     "output_type": "display_data"
    }
   ],
   "source": [
    "fig, axs = plt.subplot(4, 8, figsize=(15, 8))\n",
    "for i in range(4):\n",
    "    for j in range(8):\n",
    "        axs[i, j].imshow(feature_maps[o, :, :, i*8+j])\n",
    "        axs[i, j].axis('off')\n",
    "plt.show()"
   ]
  },
  {
   "cell_type": "code",
   "execution_count": null,
   "id": "0f2c5ad1-17b6-4dbc-a1e0-ee779b8c5517",
   "metadata": {},
   "outputs": [],
   "source": []
  },
  {
   "cell_type": "code",
   "execution_count": null,
   "id": "ac78fce5-9a1f-4afc-92cc-00c33809a1f5",
   "metadata": {},
   "outputs": [],
   "source": []
  },
  {
   "cell_type": "code",
   "execution_count": null,
   "id": "7064ac91-5f9d-4cbd-9994-819bab3b64a8",
   "metadata": {},
   "outputs": [],
   "source": []
  },
  {
   "cell_type": "code",
   "execution_count": null,
   "id": "b1f62052-f68b-48f5-a497-a38bd9e91cd3",
   "metadata": {},
   "outputs": [],
   "source": []
  },
  {
   "cell_type": "code",
   "execution_count": null,
   "id": "c752b715-f6d1-4c57-8e70-91d45f113d63",
   "metadata": {},
   "outputs": [],
   "source": []
  }
 ],
 "metadata": {
  "kernelspec": {
   "display_name": "Python 3 (ipykernel)",
   "language": "python",
   "name": "python3"
  },
  "language_info": {
   "codemirror_mode": {
    "name": "ipython",
    "version": 3
   },
   "file_extension": ".py",
   "mimetype": "text/x-python",
   "name": "python",
   "nbconvert_exporter": "python",
   "pygments_lexer": "ipython3",
   "version": "3.12.4"
  }
 },
 "nbformat": 4,
 "nbformat_minor": 5
}
